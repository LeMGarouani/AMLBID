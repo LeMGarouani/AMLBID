{
 "cells": [
  {
   "cell_type": "markdown",
   "metadata": {
    "tags": []
   },
   "source": [
    "### <center><b>AMLBID</b></center>\n",
    "\n",
    "<center><img src=\"AMLBID/Framework.png\" width=\"80%\"/></center>\n"
   ]
  },
  {
   "cell_type": "markdown",
   "metadata": {},
   "source": [
    "*  #### <ins> `Recommender Mode`</ins>:"
   ]
  },
  {
   "cell_type": "code",
   "execution_count": 1,
   "metadata": {
    "tags": []
   },
   "outputs": [
    {
     "name": "stdout",
     "output_type": "stream",
     "text": [
      "Loading data...\n",
      "Preprocessing data...\n",
      "Characterizing data ...\n",
      "Building recommendations...\n",
      "Exporting implementation...\n",
      "obtained score: \u001b[1m\u001b[32m97.792\u001b[0m\n"
     ]
    }
   ],
   "source": [
    "from AMLBID.Recommender import AMLBID_Recommender\n",
    "from AMLBID.Explainer import AMLBID_Explainer\n",
    "from AMLBID.loader import *\n",
    "\n",
    "#load dataset\n",
    "Data,X_train,Y_train,X_test,Y_test=load_data(\"TestData.csv\")  #imputation_type = ['median', 'mode','mean' ]\n",
    "\n",
    "#Generate the optimal configuration according to a desired predictive metric\n",
    "AMLBID=AMLBID_Recommender.recommend(Data, metric=\"Accuracy\", mode=\"Recommender\")\n",
    "AMLBID.fit(X_train, Y_train)\n",
    "print(\"obtained score:\" ,colored(round(AMLBID.score(X_test, Y_test)*100,3), 'green', attrs=['bold']))"
   ]
  },
  {
   "cell_type": "markdown",
   "metadata": {},
   "source": [
    "*  #### <ins> `Recommender_Explainer Mode`</ins>:"
   ]
  },
  {
   "cell_type": "code",
   "execution_count": null,
   "metadata": {},
   "outputs": [
    {
     "name": "stdout",
     "output_type": "stream",
     "text": [
      "Loading data...\n",
      "Preprocessing data...\n",
      "Characterizing data ...\n",
      "Building recommendations...\n",
      "Building ExplainerDashboard...\n"
     ]
    },
    {
     "name": "stderr",
     "output_type": "stream",
     "text": [
      " * Running on http://127.0.0.1:8050/ (Press CTRL+C to quit)\n",
      "127.0.0.1 - - [12/Feb/2023 07:01:19] \"GET /_alive_02943ab1-eb1c-4db4-adb1-9263818fd22c HTTP/1.1\" 500 -\n",
      "127.0.0.1 - - [12/Feb/2023 07:01:20] \"GET /_alive_02943ab1-eb1c-4db4-adb1-9263818fd22c HTTP/1.1\" 200 -\n"
     ]
    },
    {
     "name": "stdout",
     "output_type": "stream",
     "text": [
      "Dash app running on http://127.0.0.1:8050/\n"
     ]
    },
    {
     "name": "stderr",
     "output_type": "stream",
     "text": [
      "127.0.0.1 - - [12/Feb/2023 07:02:20] \"GET / HTTP/1.1\" 200 -\n",
      "127.0.0.1 - - [12/Feb/2023 07:02:23] \"GET /assets/bootstrap.css?m=1676180202.2085443 HTTP/1.1\" 200 -\n",
      "127.0.0.1 - - [12/Feb/2023 07:02:24] \"GET /assets/font-awesome.min.css?m=1676180202.2545168 HTTP/1.1\" 200 -\n",
      "127.0.0.1 - - [12/Feb/2023 07:02:24] \"GET /assets/bootstrap.min.css?m=1676180202.2155402 HTTP/1.1\" 200 -\n",
      "127.0.0.1 - - [12/Feb/2023 07:02:24] \"GET /assets/font-awesome.css?m=1676180202.2535172 HTTP/1.1\" 200 -\n",
      "127.0.0.1 - - [12/Feb/2023 07:02:26] \"GET /assets/styleSheet.css?m=1671573429.412352 HTTP/1.1\" 304 -\n",
      "127.0.0.1 - - [12/Feb/2023 07:02:36] \"GET /_dash-dependencies HTTP/1.1\" 200 -\n",
      "127.0.0.1 - - [12/Feb/2023 07:02:36] \"GET /_dash-layout HTTP/1.1\" 200 -\n",
      "127.0.0.1 - - [12/Feb/2023 07:02:38] \"GET /_dash-component-suites/dash/dcc/async-dropdown.js HTTP/1.1\" 200 -\n",
      "127.0.0.1 - - [12/Feb/2023 07:02:38] \"GET /assets/title.png HTTP/1.1\" 200 -\n",
      "127.0.0.1 - - [12/Feb/2023 07:02:38] \"GET /assets/favicon.ico?m=1676180202.243526 HTTP/1.1\" 200 -\n",
      "127.0.0.1 - - [12/Feb/2023 07:02:39] \"GET /assets/share_.png HTTP/1.1\" 200 -\n",
      "127.0.0.1 - - [12/Feb/2023 07:02:39] \"POST /_dash-update-component HTTP/1.1\" 200 -\n",
      "127.0.0.1 - - [12/Feb/2023 07:02:39] \"POST /_dash-update-component HTTP/1.1\" 200 -\n",
      "127.0.0.1 - - [12/Feb/2023 07:02:39] \"POST /_dash-update-component HTTP/1.1\" 200 -\n",
      "127.0.0.1 - - [12/Feb/2023 07:02:39] \"POST /_dash-update-component HTTP/1.1\" 200 -\n",
      "127.0.0.1 - - [12/Feb/2023 07:02:39] \"POST /_dash-update-component HTTP/1.1\" 200 -\n",
      "127.0.0.1 - - [12/Feb/2023 07:02:39] \"POST /_dash-update-component HTTP/1.1\" 200 -\n",
      "127.0.0.1 - - [12/Feb/2023 07:02:40] \"POST /_dash-update-component HTTP/1.1\" 500 -\n",
      "127.0.0.1 - - [12/Feb/2023 07:02:40] \"POST /_dash-update-component HTTP/1.1\" 200 -\n",
      "127.0.0.1 - - [12/Feb/2023 07:02:40] \"POST /_dash-update-component HTTP/1.1\" 200 -\n",
      "127.0.0.1 - - [12/Feb/2023 07:02:40] \"POST /_dash-update-component HTTP/1.1\" 200 -\n",
      "127.0.0.1 - - [12/Feb/2023 07:02:40] \"POST /_dash-update-component HTTP/1.1\" 200 -\n",
      "127.0.0.1 - - [12/Feb/2023 07:02:40] \"POST /_dash-update-component HTTP/1.1\" 200 -\n",
      "127.0.0.1 - - [12/Feb/2023 07:02:40] \"POST /_dash-update-component HTTP/1.1\" 200 -\n",
      "127.0.0.1 - - [12/Feb/2023 07:02:40] \"GET /assets/documentation-button.png HTTP/1.1\" 304 -\n",
      "127.0.0.1 - - [12/Feb/2023 07:02:40] \"GET /_dash-component-suites/dash/dcc/async-graph.js HTTP/1.1\" 200 -\n",
      "127.0.0.1 - - [12/Feb/2023 07:02:40] \"GET /_dash-component-suites/dash/dcc/async-plotlyjs.js HTTP/1.1\" 200 -\n",
      "127.0.0.1 - - [12/Feb/2023 07:02:41] \"POST /_dash-update-component HTTP/1.1\" 200 -\n",
      "127.0.0.1 - - [12/Feb/2023 07:02:42] \"POST /_dash-update-component HTTP/1.1\" 204 -\n",
      "127.0.0.1 - - [12/Feb/2023 07:02:44] \"POST /_dash-update-component HTTP/1.1\" 200 -\n",
      "127.0.0.1 - - [12/Feb/2023 07:02:44] \"POST /_dash-update-component HTTP/1.1\" 200 -\n",
      "127.0.0.1 - - [12/Feb/2023 07:02:44] \"POST /_dash-update-component HTTP/1.1\" 200 -\n",
      "127.0.0.1 - - [12/Feb/2023 07:02:44] \"POST /_dash-update-component HTTP/1.1\" 204 -\n",
      "127.0.0.1 - - [12/Feb/2023 07:02:44] \"POST /_dash-update-component HTTP/1.1\" 204 -\n",
      "127.0.0.1 - - [12/Feb/2023 07:02:45] \"POST /_dash-update-component HTTP/1.1\" 204 -\n",
      "127.0.0.1 - - [12/Feb/2023 07:02:45] \"POST /_dash-update-component HTTP/1.1\" 200 -\n",
      "127.0.0.1 - - [12/Feb/2023 07:02:45] \"POST /_dash-update-component HTTP/1.1\" 204 -\n",
      "127.0.0.1 - - [12/Feb/2023 07:02:45] \"POST /_dash-update-component HTTP/1.1\" 200 -\n",
      "127.0.0.1 - - [12/Feb/2023 07:02:45] \"POST /_dash-update-component HTTP/1.1\" 200 -\n",
      "127.0.0.1 - - [12/Feb/2023 07:02:45] \"POST /_dash-update-component HTTP/1.1\" 200 -\n",
      "127.0.0.1 - - [12/Feb/2023 07:02:45] \"POST /_dash-update-component HTTP/1.1\" 200 -\n",
      "127.0.0.1 - - [12/Feb/2023 07:02:55] \"POST /_dash-update-component HTTP/1.1\" 200 -\n",
      "127.0.0.1 - - [12/Feb/2023 07:02:55] \"POST /_dash-update-component HTTP/1.1\" 200 -\n",
      "127.0.0.1 - - [12/Feb/2023 07:02:55] \"POST /_dash-update-component HTTP/1.1\" 200 -\n",
      "127.0.0.1 - - [12/Feb/2023 07:02:56] \"POST /_dash-update-component HTTP/1.1\" 200 -\n",
      "127.0.0.1 - - [12/Feb/2023 07:02:57] \"POST /_dash-update-component HTTP/1.1\" 200 -\n",
      "127.0.0.1 - - [12/Feb/2023 07:02:58] \"POST /_dash-update-component HTTP/1.1\" 200 -\n",
      "127.0.0.1 - - [12/Feb/2023 07:02:58] \"POST /_dash-update-component HTTP/1.1\" 500 -\n",
      "127.0.0.1 - - [12/Feb/2023 07:02:58] \"POST /_dash-update-component HTTP/1.1\" 200 -\n",
      "127.0.0.1 - - [12/Feb/2023 07:02:58] \"POST /_dash-update-component HTTP/1.1\" 200 -\n",
      "127.0.0.1 - - [12/Feb/2023 07:02:58] \"POST /_dash-update-component HTTP/1.1\" 200 -\n",
      "127.0.0.1 - - [12/Feb/2023 07:02:59] \"POST /_dash-update-component HTTP/1.1\" 200 -\n",
      "127.0.0.1 - - [12/Feb/2023 07:02:59] \"POST /_dash-update-component HTTP/1.1\" 200 -\n",
      "127.0.0.1 - - [12/Feb/2023 07:02:59] \"POST /_dash-update-component HTTP/1.1\" 200 -\n",
      "127.0.0.1 - - [12/Feb/2023 07:02:59] \"POST /_dash-update-component HTTP/1.1\" 200 -\n",
      "127.0.0.1 - - [12/Feb/2023 07:02:59] \"POST /_dash-update-component HTTP/1.1\" 200 -\n",
      "127.0.0.1 - - [12/Feb/2023 07:02:59] \"POST /_dash-update-component HTTP/1.1\" 204 -\n",
      "127.0.0.1 - - [12/Feb/2023 07:02:59] \"POST /_dash-update-component HTTP/1.1\" 200 -\n",
      "127.0.0.1 - - [12/Feb/2023 07:03:01] \"POST /_dash-update-component HTTP/1.1\" 200 -\n",
      "127.0.0.1 - - [12/Feb/2023 07:03:02] \"POST /_dash-update-component HTTP/1.1\" 200 -\n",
      "127.0.0.1 - - [12/Feb/2023 07:03:03] \"POST /_dash-update-component HTTP/1.1\" 200 -\n",
      "127.0.0.1 - - [12/Feb/2023 07:03:04] \"POST /_dash-update-component HTTP/1.1\" 200 -\n",
      "127.0.0.1 - - [12/Feb/2023 07:03:04] \"POST /_dash-update-component HTTP/1.1\" 200 -\n",
      "127.0.0.1 - - [12/Feb/2023 07:03:06] \"POST /_dash-update-component HTTP/1.1\" 200 -\n",
      "127.0.0.1 - - [12/Feb/2023 07:03:09] \"POST /_dash-update-component HTTP/1.1\" 200 -\n"
     ]
    }
   ],
   "source": [
    "from AMLBID.Recommender import AMLBID_Recommender\n",
    "from AMLBID.Explainer import AMLBID_Explainer\n",
    "from AMLBID.loader import *\n",
    "\n",
    "#load dataset\n",
    "Data,X_train,Y_train,X_test,Y_test=load_data(\"TestOther.csv\")\n",
    "\n",
    "#Generate the optimal configurations according to a desired predictive metric\n",
    "AMLBID,Config=AMLBID_Recommender.recommend(Data, metric=\"Accuracy\", mode=\"Recommender_Explainer\")\n",
    "AMLBID.fit(X_train, Y_train)\n",
    "\n",
    "#Generate the interactive explanatory dash\n",
    "Explainer = AMLBID_Explainer.explain(AMLBID,Config, X_test, Y_test)\n",
    "Explainer.run()"
   ]
  },
  {
   "cell_type": "code",
   "execution_count": null,
   "metadata": {},
   "outputs": [],
   "source": []
  }
 ],
 "metadata": {
  "kernelspec": {
   "display_name": "ML-BID",
   "language": "python",
   "name": "python3"
  },
  "language_info": {
   "codemirror_mode": {
    "name": "ipython",
    "version": 3
   },
   "file_extension": ".py",
   "mimetype": "text/x-python",
   "name": "python",
   "nbconvert_exporter": "python",
   "pygments_lexer": "ipython3",
   "version": "3.6.13"
  },
  "vscode": {
   "interpreter": {
    "hash": "648ed1ae1dc9fa56de0924caf237c5caa6822837c53f30c7d07c57938d9f6580"
   }
  }
 },
 "nbformat": 4,
 "nbformat_minor": 4
}
