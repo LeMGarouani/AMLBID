{
 "cells": [
  {
   "cell_type": "markdown",
   "metadata": {
    "tags": []
   },
   "source": [
    "### <center><b>AMLBID</b></center>\n",
    "\n",
    "<center><img src=\"AMLBID/Framework.png\" width=\"80%\"/></center>\n"
   ]
  },
  {
   "cell_type": "markdown",
   "metadata": {},
   "source": [
    "*  #### <ins> `Recommender Mode`</ins>:"
   ]
  },
  {
   "cell_type": "code",
   "execution_count": 2,
   "metadata": {
    "tags": []
   },
   "outputs": [
    {
     "name": "stdout",
     "output_type": "stream",
     "text": [
      "Loading data...\n",
      "Preprocessing data...\n",
      "Characterizing data ...\n",
      "Building recommendations...\n",
      "Exporting implementation...\n",
      "obtained score: 97.968\n"
     ]
    },
    {
     "name": "stderr",
     "output_type": "stream",
     "text": [
      "127.0.0.1 - - [07/Feb/2023 21:03:57] \"GET / HTTP/1.1\" 200 -\n",
      "127.0.0.1 - - [07/Feb/2023 21:03:57] \"GET /assets/bootstrap.css?m=1669388311.3363526 HTTP/1.1\" 200 -\n",
      "127.0.0.1 - - [07/Feb/2023 21:03:57] \"GET /assets/bootstrap.min.css?m=1669388311.3363526 HTTP/1.1\" 200 -\n",
      "127.0.0.1 - - [07/Feb/2023 21:03:57] \"GET /assets/font-awesome.css?m=1669388311.3383577 HTTP/1.1\" 304 -\n",
      "127.0.0.1 - - [07/Feb/2023 21:03:57] \"GET /assets/font-awesome.min.css?m=1669388311.3383577 HTTP/1.1\" 304 -\n",
      "127.0.0.1 - - [07/Feb/2023 21:03:57] \"GET /_dash-dependencies HTTP/1.1\" 200 -\n",
      "127.0.0.1 - - [07/Feb/2023 21:03:57] \"GET /_dash-layout HTTP/1.1\" 200 -\n",
      "127.0.0.1 - - [07/Feb/2023 21:03:57] \"GET /assets/title.png HTTP/1.1\" 200 -\n",
      "127.0.0.1 - - [07/Feb/2023 21:03:57] \"GET /_dash-component-suites/dash/dcc/async-dropdown.js HTTP/1.1\" 304 -\n",
      "127.0.0.1 - - [07/Feb/2023 21:03:57] \"GET /_dash-component-suites/dash/dcc/async-upload.js HTTP/1.1\" 304 -\n",
      "127.0.0.1 - - [07/Feb/2023 21:03:57] \"GET /assets/share_.png HTTP/1.1\" 304 -\n",
      "127.0.0.1 - - [07/Feb/2023 21:03:57] \"POST /_dash-update-component HTTP/1.1\" 204 -\n",
      "127.0.0.1 - - [07/Feb/2023 21:03:57] \"POST /_dash-update-component HTTP/1.1\" 200 -\n",
      "127.0.0.1 - - [07/Feb/2023 21:03:57] \"POST /_dash-update-component HTTP/1.1\" 200 -\n",
      "127.0.0.1 - - [07/Feb/2023 21:03:57] \"POST /_dash-update-component HTTP/1.1\" 200 -\n",
      "127.0.0.1 - - [07/Feb/2023 21:03:57] \"POST /_dash-update-component HTTP/1.1\" 200 -\n",
      "127.0.0.1 - - [07/Feb/2023 21:03:57] \"POST /_dash-update-component HTTP/1.1\" 200 -\n",
      "127.0.0.1 - - [07/Feb/2023 21:03:57] \"POST /_dash-update-component HTTP/1.1\" 200 -\n",
      "127.0.0.1 - - [07/Feb/2023 21:03:57] \"POST /_dash-update-component HTTP/1.1\" 200 -\n",
      "127.0.0.1 - - [07/Feb/2023 21:03:57] \"POST /_dash-update-component HTTP/1.1\" 200 -\n",
      "127.0.0.1 - - [07/Feb/2023 21:03:57] \"POST /_dash-update-component HTTP/1.1\" 200 -\n",
      "127.0.0.1 - - [07/Feb/2023 21:03:57] \"POST /_dash-update-component HTTP/1.1\" 200 -\n",
      "127.0.0.1 - - [07/Feb/2023 21:03:57] \"POST /_dash-update-component HTTP/1.1\" 200 -\n",
      "127.0.0.1 - - [07/Feb/2023 21:03:58] \"POST /_dash-update-component HTTP/1.1\" 204 -\n",
      "127.0.0.1 - - [07/Feb/2023 21:03:58] \"POST /_dash-update-component HTTP/1.1\" 200 -\n",
      "127.0.0.1 - - [07/Feb/2023 21:03:58] \"POST /_dash-update-component HTTP/1.1\" 200 -\n",
      "127.0.0.1 - - [07/Feb/2023 21:03:58] \"POST /_dash-update-component HTTP/1.1\" 200 -\n",
      "127.0.0.1 - - [07/Feb/2023 21:03:58] \"POST /_dash-update-component HTTP/1.1\" 204 -\n",
      "127.0.0.1 - - [07/Feb/2023 21:03:58] \"POST /_dash-update-component HTTP/1.1\" 200 -\n",
      "127.0.0.1 - - [07/Feb/2023 21:03:58] \"POST /_dash-update-component HTTP/1.1\" 200 -\n",
      "127.0.0.1 - - [07/Feb/2023 21:03:58] \"POST /_dash-update-component HTTP/1.1\" 204 -\n",
      "127.0.0.1 - - [07/Feb/2023 21:03:58] \"POST /_dash-update-component HTTP/1.1\" 200 -\n",
      "127.0.0.1 - - [07/Feb/2023 21:03:58] \"POST /_dash-update-component HTTP/1.1\" 204 -\n",
      "127.0.0.1 - - [07/Feb/2023 21:03:58] \"POST /_dash-update-component HTTP/1.1\" 200 -\n",
      "127.0.0.1 - - [07/Feb/2023 21:03:58] \"POST /_dash-update-component HTTP/1.1\" 200 -\n",
      "127.0.0.1 - - [07/Feb/2023 21:03:59] \"POST /_dash-update-component HTTP/1.1\" 500 -\n",
      "127.0.0.1 - - [07/Feb/2023 21:03:59] \"POST /_dash-update-component HTTP/1.1\" 200 -\n",
      "127.0.0.1 - - [07/Feb/2023 21:03:59] \"POST /_dash-update-component HTTP/1.1\" 200 -\n",
      "127.0.0.1 - - [07/Feb/2023 21:03:59] \"POST /_dash-update-component HTTP/1.1\" 200 -\n",
      "127.0.0.1 - - [07/Feb/2023 21:03:59] \"POST /_dash-update-component HTTP/1.1\" 200 -\n",
      "127.0.0.1 - - [07/Feb/2023 21:03:59] \"POST /_dash-update-component HTTP/1.1\" 200 -\n",
      "127.0.0.1 - - [07/Feb/2023 21:03:59] \"POST /_dash-update-component HTTP/1.1\" 200 -\n",
      "127.0.0.1 - - [07/Feb/2023 21:03:59] \"POST /_dash-update-component HTTP/1.1\" 200 -\n",
      "127.0.0.1 - - [07/Feb/2023 21:03:59] \"POST /_dash-update-component HTTP/1.1\" 200 -\n",
      "127.0.0.1 - - [07/Feb/2023 21:03:59] \"POST /_dash-update-component HTTP/1.1\" 200 -\n",
      "127.0.0.1 - - [07/Feb/2023 21:03:59] \"POST /_dash-update-component HTTP/1.1\" 200 -\n",
      "127.0.0.1 - - [07/Feb/2023 21:03:59] \"POST /_dash-update-component HTTP/1.1\" 204 -\n",
      "127.0.0.1 - - [07/Feb/2023 21:03:59] \"POST /_dash-update-component HTTP/1.1\" 200 -\n",
      "127.0.0.1 - - [07/Feb/2023 21:03:59] \"POST /_dash-update-component HTTP/1.1\" 200 -\n",
      "127.0.0.1 - - [07/Feb/2023 21:03:59] \"POST /_dash-update-component HTTP/1.1\" 200 -\n",
      "127.0.0.1 - - [07/Feb/2023 21:03:59] \"POST /_dash-update-component HTTP/1.1\" 200 -\n",
      "127.0.0.1 - - [07/Feb/2023 21:03:59] \"GET /_dash-component-suites/dash/dcc/async-graph.js HTTP/1.1\" 304 -\n",
      "127.0.0.1 - - [07/Feb/2023 21:03:59] \"POST /_dash-update-component HTTP/1.1\" 200 -\n",
      "127.0.0.1 - - [07/Feb/2023 21:03:59] \"GET /_dash-component-suites/dash/dcc/async-plotlyjs.js HTTP/1.1\" 304 -\n",
      "127.0.0.1 - - [07/Feb/2023 21:03:59] \"POST /_dash-update-component HTTP/1.1\" 200 -\n",
      "127.0.0.1 - - [07/Feb/2023 21:03:59] \"POST /_dash-update-component HTTP/1.1\" 200 -\n",
      "127.0.0.1 - - [07/Feb/2023 21:03:59] \"POST /_dash-update-component HTTP/1.1\" 200 -\n",
      "127.0.0.1 - - [07/Feb/2023 21:03:59] \"POST /_dash-update-component HTTP/1.1\" 200 -\n",
      "127.0.0.1 - - [07/Feb/2023 21:03:59] \"POST /_dash-update-component HTTP/1.1\" 200 -\n",
      "127.0.0.1 - - [07/Feb/2023 21:03:59] \"POST /_dash-update-component HTTP/1.1\" 200 -\n"
     ]
    }
   ],
   "source": [
    "from AMLBID.Recommender import AMLBID_Recommender\n",
    "from AMLBID.Explainer import AMLBID_Explainer\n",
    "from AMLBID.loader import *\n",
    "\n",
    "#load dataset\n",
    "Data,X_train,Y_train,X_test,Y_test=load_data(\"TestData.csv\")  #imputation_type = ['median', 'mode','mean' ]\n",
    "\n",
    "#Generate the optimal configuration according to a desired predictive metric\n",
    "AMLBID=AMLBID_Recommender.recommend(Data, metric=\"Accuracy\", mode=\"Recommender\")\n",
    "AMLBID.fit(X_train, Y_train)\n",
    "print(\"obtained score:\" ,colored(round(AMLBID.score(X_test, Y_test)*100,3), 'green', attrs=['bold']))"
   ]
  },
  {
   "cell_type": "markdown",
   "metadata": {},
   "source": [
    "*  #### <ins> `Recommender_Explainer Mode`</ins>:"
   ]
  },
  {
   "cell_type": "code",
   "execution_count": 1,
   "metadata": {},
   "outputs": [
    {
     "name": "stdout",
     "output_type": "stream",
     "text": [
      "Loading data...\n",
      "Preprocessing data...\n",
      "Characterizing data ...\n",
      "Building recommendations...\n",
      "Building ExplainerDashboard...\n"
     ]
    },
    {
     "name": "stderr",
     "output_type": "stream",
     "text": [
      "WARNING: This is a development server. Do not use it in a production deployment. Use a production WSGI server instead.\n",
      " * Running on http://127.0.0.1:8050\n",
      "Press CTRL+C to quit\n",
      "127.0.0.1 - - [07/Feb/2023 21:21:21] \"GET /_alive_1ec5e6ff-30bf-4ba3-bbdc-00fcd0c52caa HTTP/1.1\" 200 -\n"
     ]
    },
    {
     "name": "stdout",
     "output_type": "stream",
     "text": [
      "Dash app running on http://127.0.0.1:8050/\n"
     ]
    }
   ],
   "source": [
    "from AMLBID.Recommender import AMLBID_Recommender\n",
    "from AMLBID.Explainer import AMLBID_Explainer\n",
    "from AMLBID.loader import *\n",
    "\n",
    "#load dataset\n",
    "Data,X_train,Y_train,X_test,Y_test=load_data(\"TestData.csv\")\n",
    "\n",
    "#Generate the optimal configurations according to a desired predictive metric\n",
    "AMLBID,Config=AMLBID_Recommender.recommend(Data, metric=\"Accuracy\", mode=\"Recommender_Explainer\")\n",
    "AMLBID.fit(X_train, Y_train)\n",
    "\n",
    "#Generate the interactive explanatory dash\n",
    "Explainer = AMLBID_Explainer.explain(AMLBID,Config, X_test, Y_test)\n",
    "Explainer.run()"
   ]
  },
  {
   "cell_type": "code",
   "execution_count": null,
   "metadata": {},
   "outputs": [],
   "source": []
  }
 ],
 "metadata": {
  "kernelspec": {
   "display_name": "Python 3 (ipykernel)",
   "language": "python",
   "name": "python3"
  },
  "language_info": {
   "codemirror_mode": {
    "name": "ipython",
    "version": 3
   },
   "file_extension": ".py",
   "mimetype": "text/x-python",
   "name": "python",
   "nbconvert_exporter": "python",
   "pygments_lexer": "ipython3",
   "version": "3.10.8"
  },
  "vscode": {
   "interpreter": {
    "hash": "3675649662a52b596527de09244ff3d3176526844ab5526b649769cc606934d0"
   }
  }
 },
 "nbformat": 4,
 "nbformat_minor": 4
}
